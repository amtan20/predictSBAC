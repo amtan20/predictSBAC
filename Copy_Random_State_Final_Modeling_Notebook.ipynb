{
 "cells": [
  {
   "cell_type": "markdown",
   "metadata": {
    "toc": true
   },
   "source": [
    "# Table of Contents\n",
    "1. Research Question\n",
    "2. Evaluation Metrics\n",
    "3. Load Data\n",
    "4. Search for best algorithm\n",
    "5. Tune hyperparameters for 3 candidate models\n",
    "6. Compare 3 candidate models and select final model\n",
    "7. Run final model on test set\n",
    "8. Examine feature importances for the final model\n",
    "9. Conclusion and next steps "
   ]
  },
  {
   "cell_type": "markdown",
   "metadata": {},
   "source": [
    "Research Question \n",
    "----\n",
    "Can we use student demographic information and test scores throughout the year to predict whether or not a student will pass the Math SBAC at the end of the year? Which indicators from the first semester are most important for predicting whether or not a student will pass the Math SBAC? \n"
   ]
  },
  {
   "cell_type": "markdown",
   "metadata": {},
   "source": [
    "Evaluation Metrics  \n",
    "----\n",
    "2 evaluation metrics are used in this notebook: \n",
    "- precision\n",
    "- accuracy "
   ]
  },
  {
   "cell_type": "code",
   "execution_count": 62,
   "metadata": {},
   "outputs": [],
   "source": [
    "# Imports\n",
    "\n",
    "import numpy as np\n",
    "import pandas as pd\n",
    "import seaborn as sns\n",
    "from   sklearn.base            import BaseEstimator\n",
    "from   sklearn.compose         import *\n",
    "from   sklearn.ensemble        import RandomForestClassifier, ExtraTreesClassifier, IsolationForest, GradientBoostingClassifier\n",
    "from   sklearn.experimental    import enable_iterative_imputer\n",
    "from   sklearn.impute          import *\n",
    "from   sklearn.inspection      import permutation_importance\n",
    "from   sklearn.linear_model    import LogisticRegression, PassiveAggressiveClassifier, RidgeClassifier, SGDClassifier\n",
    "from   sklearn.metrics         import precision_score, classification_report, accuracy_score, confusion_matrix\n",
    "from   sklearn.model_selection import train_test_split\n",
    "from   sklearn.model_selection import RandomizedSearchCV\n",
    "from   sklearn.neighbors       import *\n",
    "from   sklearn.pipeline        import Pipeline\n",
    "from   sklearn.preprocessing   import *\n",
    "from   sklearn.svm             import SVC\n",
    "from   sklearn.tree            import DecisionTreeClassifier, ExtraTreeClassifier\n",
    "\n",
    "\n",
    "import warnings\n",
    "warnings.filterwarnings(\"ignore\")"
   ]
  },
  {
   "cell_type": "markdown",
   "metadata": {},
   "source": [
    "Load Data\n",
    "-----"
   ]
  },
  {
   "cell_type": "code",
   "execution_count": 63,
   "metadata": {},
   "outputs": [],
   "source": [
    "data = pd.read_csv('https://github.com/amtan20/predictSBAC/raw/main/public_student_data.csv')"
   ]
  },
  {
   "cell_type": "code",
   "execution_count": 64,
   "metadata": {},
   "outputs": [],
   "source": [
    "# Create X and y dataframes \n",
    "X = data.drop(columns=['Mathematics Achievement Level','ELA/Literacy Achievement Level'])\n",
    "y = data['Mathematics Achievement Level']"
   ]
  },
  {
   "cell_type": "code",
   "execution_count": 65,
   "metadata": {},
   "outputs": [],
   "source": [
    "# Clean up column names \n",
    "\n",
    "X.rename(columns={\"Reading Fall '18 %ile\" : \"Reading Fall Percentile\", \n",
    "                  \"Reading Winter '18 %ile\" : \"Reading Winter Percentile\", \n",
    "                  \"Math Fall '18 %ile\" : \"Math Fall Percentile\", \n",
    "                  \"Winter '18 %ile\" : \"Math Winter Percentile\"}, inplace=True)"
   ]
  },
  {
   "cell_type": "markdown",
   "metadata": {},
   "source": [
    "Target Engineering \n",
    "-----"
   ]
  },
  {
   "cell_type": "code",
   "execution_count": 66,
   "metadata": {},
   "outputs": [],
   "source": [
    "# Change y into binary numeric target \n",
    "def create_binary_target(y):\n",
    "    return np.where(y=='Standard Not Met',0, np.where(y=='Standard Nearly Met', 0, 1))"
   ]
  },
  {
   "cell_type": "code",
   "execution_count": 67,
   "metadata": {},
   "outputs": [],
   "source": [
    "# Use FunctionTransformer to apply the function to the target \n",
    "transformer = FunctionTransformer(create_binary_target)\n",
    "y = transformer.transform(y)"
   ]
  },
  {
   "cell_type": "markdown",
   "metadata": {},
   "source": [
    "Create Train, Validation, and Test Sets \n",
    "-----"
   ]
  },
  {
   "cell_type": "code",
   "execution_count": 68,
   "metadata": {},
   "outputs": [],
   "source": [
    "# Create train and test sets\n",
    "X_train, X_test, y_train, y_test = train_test_split(X, y, random_state=46)\n"
   ]
  },
  {
   "cell_type": "code",
   "execution_count": 69,
   "metadata": {},
   "outputs": [],
   "source": [
    "X_train.to_csv('X_train.csv')\n",
    "pd.DataFrame(y_train).to_csv('y_train.csv')"
   ]
  },
  {
   "cell_type": "code",
   "execution_count": 70,
   "metadata": {},
   "outputs": [],
   "source": [
    "X_train_tuning, X_valid_tuning, y_train_tuning, y_valid_tuning = train_test_split(X_train, y_train, random_state=46)"
   ]
  },
  {
   "cell_type": "markdown",
   "metadata": {},
   "source": [
    "Build Pipeline \n",
    "----\n",
    "Impute missing values, one hot encode categorical features, standardize numeric features "
   ]
  },
  {
   "cell_type": "code",
   "execution_count": 41,
   "metadata": {},
   "outputs": [],
   "source": [
    "boolean_columns = ['IDEA Indicator', 'LEP Status', 'Economically Disadvantaged Status']\n",
    "\n",
    "categorical_columns = ['Grade _x', \n",
    "       'Reading \\nMet Winter Goal?', \n",
    "       'Math Met Winter Goal?', \n",
    "       'Race/Ethnicity', 'Language Code',\n",
    "       'English Language Proficiency Level', 'Migrant Status',\n",
    "       'Primary Disability Type']\n",
    "\n",
    "numeric_columns = ['Reading Fall Percentile',\n",
    "       'Reading Winter Percentile', 'Reading Fall Score to Winter Growth',\n",
    "       'Math Fall Percentile',\n",
    "       'Math Winter Percentile', 'Math Fall to Winter Growth',\n",
    "       'Math Met Winter Goal?', \n",
    "       'First Entry Date Into US School', 'LEP Entry Date', 'LEP Exit Date']\n",
    "\n",
    "\n",
    "boolean_pipe = Pipeline([('imputer', SimpleImputer(strategy='constant', fill_value='False')), \n",
    "                         ('ohe', OneHotEncoder(handle_unknown='ignore'))])\n",
    "\n",
    "categorical_pipe = Pipeline([('imputer', SimpleImputer(strategy='constant', fill_value='missing')),\n",
    "                             ('ohe', OneHotEncoder(handle_unknown='ignore'))])\n",
    "\n",
    "numeric_pipe = Pipeline([('scaler', StandardScaler()),\n",
    "                         ('imputer', SimpleImputer(strategy='median'))])\n",
    "\n",
    "preprocessing = ColumnTransformer([('boolean', boolean_pipe,  boolean_columns),\n",
    "                                   ('categorical', categorical_pipe, categorical_columns),\n",
    "                                   ('numeric',  numeric_pipe, numeric_columns)])   "
   ]
  },
  {
   "cell_type": "markdown",
   "metadata": {},
   "source": [
    "Search for best algorithm using RandomizedSearchCV\n",
    "----"
   ]
  },
  {
   "cell_type": "code",
   "execution_count": 42,
   "metadata": {},
   "outputs": [],
   "source": [
    "# Helper class (you do not have to use it)\n",
    "class DummyEstimator(BaseEstimator):\n",
    "    \"Pass through class, methods are present but do nothing.\"\n",
    "    def fit(self): pass\n",
    "    def score(self): pass"
   ]
  },
  {
   "cell_type": "code",
   "execution_count": 43,
   "metadata": {},
   "outputs": [
    {
     "data": {
      "text/plain": [
       "Pipeline(steps=[('preprocessing',\n",
       "                 ColumnTransformer(transformers=[('boolean',\n",
       "                                                  Pipeline(steps=[('imputer',\n",
       "                                                                   SimpleImputer(fill_value='False',\n",
       "                                                                                 strategy='constant')),\n",
       "                                                                  ('ohe',\n",
       "                                                                   OneHotEncoder(handle_unknown='ignore'))]),\n",
       "                                                  ['IDEA Indicator',\n",
       "                                                   'LEP Status',\n",
       "                                                   'Economically Disadvantaged '\n",
       "                                                   'Status']),\n",
       "                                                 ('categorical',\n",
       "                                                  Pipeline(steps=[('imputer',\n",
       "                                                                   SimpleImputer(fill_value='missing'...\n",
       "                                                  Pipeline(steps=[('scaler',\n",
       "                                                                   StandardScaler()),\n",
       "                                                                  ('imputer',\n",
       "                                                                   SimpleImputer(strategy='median'))]),\n",
       "                                                  ['Reading Fall Percentile',\n",
       "                                                   'Reading Winter Percentile',\n",
       "                                                   'Reading Fall Score to '\n",
       "                                                   'Winter Growth',\n",
       "                                                   'Math Fall Percentile',\n",
       "                                                   'Math Winter Percentile',\n",
       "                                                   'Math Fall to Winter Growth',\n",
       "                                                   'Math Met Winter Goal?',\n",
       "                                                   'First Entry Date Into US '\n",
       "                                                   'School',\n",
       "                                                   'LEP Entry Date',\n",
       "                                                   'LEP Exit Date'])])),\n",
       "                ('mod', ExtraTreesClassifier())])"
      ]
     },
     "execution_count": 43,
     "metadata": {},
     "output_type": "execute_result"
    }
   ],
   "source": [
    "pipe = Pipeline([('preprocessing', preprocessing),\n",
    "                 ('mod', DummyEstimator())])\n",
    "\n",
    "models = [{'mod' : [ExtraTreesClassifier()]},\n",
    "          {'mod' : [GradientBoostingClassifier()]},\n",
    "          {'mod' : [KNeighborsClassifier()]},\n",
    "          {'mod' : [LogisticRegression()]},\n",
    "          {'mod' : [PassiveAggressiveClassifier()]},\n",
    "          {'mod' : [RandomForestClassifier()]},\n",
    "          {'mod' : [RidgeClassifier()]},\n",
    "          {'mod' : [SGDClassifier()]},\n",
    "          {'mod' : [SVC()]}\n",
    "          ]\n",
    "\n",
    "clf_rand = RandomizedSearchCV(estimator=pipe, \n",
    "                              param_distributions=models, \n",
    "                              n_iter=3,\n",
    "                              cv=5,\n",
    "                              scoring='precision',\n",
    "                              n_jobs=-1)\n",
    "best_model = clf_rand.fit(X_train, y_train) \n",
    "best_model.best_estimator_\n"
   ]
  },
  {
   "cell_type": "markdown",
   "metadata": {},
   "source": [
    "Manual Search for 2 more candidate algorithms \n",
    "----"
   ]
  },
  {
   "cell_type": "code",
   "execution_count": 44,
   "metadata": {},
   "outputs": [],
   "source": [
    "algorithms = [ExtraTreesClassifier(), \n",
    "              GradientBoostingClassifier(),\n",
    "              KNeighborsClassifier(),\n",
    "              LogisticRegression(), \n",
    "              PassiveAggressiveClassifier(), \n",
    "              RandomForestClassifier(),\n",
    "              RidgeClassifier(), \n",
    "              SGDClassifier(), \n",
    "              SVC()    \n",
    "              ]"
   ]
  },
  {
   "cell_type": "code",
   "execution_count": 45,
   "metadata": {},
   "outputs": [
    {
     "name": "stdout",
     "output_type": "stream",
     "text": [
      "ExtraTreesClassifier() 0.869\n",
      "RandomForestClassifier() 0.865\n",
      "SVC() 0.865\n",
      "KNeighborsClassifier() 0.861\n",
      "LogisticRegression() 0.859\n",
      "RidgeClassifier() 0.847\n",
      "PassiveAggressiveClassifier() 0.843\n",
      "SGDClassifier() 0.84\n",
      "GradientBoostingClassifier() 0.835\n"
     ]
    }
   ],
   "source": [
    "# Check accuracy 100 times \n",
    "\n",
    "final_acc_results = []\n",
    "\n",
    "for algo in algorithms: \n",
    "    pipe = Pipeline([('preprocessing', preprocessing), \n",
    "                     ('classifier',  algo)])\n",
    "    acc_results = []\n",
    "    for x in range(100): \n",
    "        \n",
    "        X_train1, X_valid, y_train1, y_valid = train_test_split(X_train, y_train)\n",
    "        \n",
    "        pipe.fit(X_train1, y_train1)\n",
    "\n",
    "        y_pred = pipe.predict(X_valid)\n",
    "        acc_test = accuracy_score(y_valid, y_pred)\n",
    "        acc_results.append(acc_test)\n",
    "        avg_acc = sum(acc_results)/len(acc_results)\n",
    "    \n",
    "    final_acc_results.append((algo, round(avg_acc,3)))\n",
    "\n",
    "final_acc_results = sorted(final_acc_results, key = lambda x: x[1], reverse=True)\n",
    "\n",
    "for x in final_acc_results:\n",
    "    print(x[0], x[1])"
   ]
  },
  {
   "cell_type": "code",
   "execution_count": 46,
   "metadata": {},
   "outputs": [
    {
     "name": "stdout",
     "output_type": "stream",
     "text": [
      "ExtraTreesClassifier() 0.898\n",
      "SGDClassifier() 0.895\n",
      "RandomForestClassifier() 0.892\n",
      "LogisticRegression() 0.889\n",
      "PassiveAggressiveClassifier() 0.881\n",
      "RidgeClassifier() 0.874\n",
      "GradientBoostingClassifier() 0.872\n",
      "KNeighborsClassifier() 0.872\n",
      "SVC() 0.863\n"
     ]
    }
   ],
   "source": [
    "# Check precision 100 times \n",
    "\n",
    "final_precision_results = []\n",
    "\n",
    "for algo in algorithms: \n",
    "    pipe = Pipeline([('preprocessing', preprocessing), \n",
    "                     ('classifier',  algo)])\n",
    "\n",
    "    precision_results = []\n",
    "    for x in range(100):  \n",
    "        \n",
    "        X_train1, X_valid, y_train1, y_valid = train_test_split(X_train, y_train)\n",
    "        \n",
    "        pipe.fit(X_train1, y_train1)\n",
    "\n",
    "        y_pred = pipe.predict(X_valid)\n",
    "        precision_test = precision_score(y_valid, y_pred)\n",
    "        precision_results.append(precision_test)\n",
    "        avg_precision = sum(precision_results)/len(precision_results)\n",
    "\n",
    "    final_precision_results.append((algo, round(avg_precision,3)))\n",
    "\n",
    "final_precision_results = sorted(final_precision_results, key = lambda x: x[1], reverse=True)\n",
    "\n",
    "for x in final_precision_results:\n",
    "    print(x[0], x[1])"
   ]
  },
  {
   "cell_type": "markdown",
   "metadata": {},
   "source": [
    "Tune hyperparameters for candidate model 1: Logistic Regression Classifier \n",
    "----"
   ]
  },
  {
   "cell_type": "code",
   "execution_count": 47,
   "metadata": {},
   "outputs": [
    {
     "name": "stdout",
     "output_type": "stream",
     "text": [
      "Fitting 5 folds for each of 5 candidates, totalling 25 fits\n"
     ]
    },
    {
     "name": "stderr",
     "output_type": "stream",
     "text": [
      "[Parallel(n_jobs=1)]: Using backend SequentialBackend with 1 concurrent workers.\n",
      "[Parallel(n_jobs=1)]: Done  25 out of  25 | elapsed:    1.1s finished\n"
     ]
    },
    {
     "data": {
      "text/plain": [
       "{'memory': None,\n",
       " 'steps': [('preprocessing',\n",
       "   ColumnTransformer(transformers=[('boolean',\n",
       "                                    Pipeline(steps=[('imputer',\n",
       "                                                     SimpleImputer(fill_value='False',\n",
       "                                                                   strategy='constant')),\n",
       "                                                    ('ohe',\n",
       "                                                     OneHotEncoder(handle_unknown='ignore'))]),\n",
       "                                    ['IDEA Indicator', 'LEP Status',\n",
       "                                     'Economically Disadvantaged Status']),\n",
       "                                   ('categorical',\n",
       "                                    Pipeline(steps=[('imputer',\n",
       "                                                     SimpleImputer(fill_value='missing',\n",
       "                                                                   strategy='constant')),\n",
       "                                                    ('ohe',\n",
       "                                                     OneHo...\n",
       "                                     'Primary Disability Type']),\n",
       "                                   ('numeric',\n",
       "                                    Pipeline(steps=[('scaler', StandardScaler()),\n",
       "                                                    ('imputer',\n",
       "                                                     SimpleImputer(strategy='median'))]),\n",
       "                                    ['Reading Fall Percentile',\n",
       "                                     'Reading Winter Percentile',\n",
       "                                     'Reading Fall Score to Winter Growth',\n",
       "                                     'Math Fall Percentile',\n",
       "                                     'Math Winter Percentile',\n",
       "                                     'Math Fall to Winter Growth',\n",
       "                                     'Math Met Winter Goal?',\n",
       "                                     'First Entry Date Into US School',\n",
       "                                     'LEP Entry Date', 'LEP Exit Date'])])),\n",
       "  ('classifier',\n",
       "   LogisticRegression(C=10000.0, class_weight='balanced', fit_intercept=False,\n",
       "                      max_iter=500, multi_class='multinomial', penalty='l1',\n",
       "                      solver='saga'))],\n",
       " 'verbose': False,\n",
       " 'preprocessing': ColumnTransformer(transformers=[('boolean',\n",
       "                                  Pipeline(steps=[('imputer',\n",
       "                                                   SimpleImputer(fill_value='False',\n",
       "                                                                 strategy='constant')),\n",
       "                                                  ('ohe',\n",
       "                                                   OneHotEncoder(handle_unknown='ignore'))]),\n",
       "                                  ['IDEA Indicator', 'LEP Status',\n",
       "                                   'Economically Disadvantaged Status']),\n",
       "                                 ('categorical',\n",
       "                                  Pipeline(steps=[('imputer',\n",
       "                                                   SimpleImputer(fill_value='missing',\n",
       "                                                                 strategy='constant')),\n",
       "                                                  ('ohe',\n",
       "                                                   OneHo...\n",
       "                                   'Primary Disability Type']),\n",
       "                                 ('numeric',\n",
       "                                  Pipeline(steps=[('scaler', StandardScaler()),\n",
       "                                                  ('imputer',\n",
       "                                                   SimpleImputer(strategy='median'))]),\n",
       "                                  ['Reading Fall Percentile',\n",
       "                                   'Reading Winter Percentile',\n",
       "                                   'Reading Fall Score to Winter Growth',\n",
       "                                   'Math Fall Percentile',\n",
       "                                   'Math Winter Percentile',\n",
       "                                   'Math Fall to Winter Growth',\n",
       "                                   'Math Met Winter Goal?',\n",
       "                                   'First Entry Date Into US School',\n",
       "                                   'LEP Entry Date', 'LEP Exit Date'])]),\n",
       " 'classifier': LogisticRegression(C=10000.0, class_weight='balanced', fit_intercept=False,\n",
       "                    max_iter=500, multi_class='multinomial', penalty='l1',\n",
       "                    solver='saga'),\n",
       " 'preprocessing__n_jobs': None,\n",
       " 'preprocessing__remainder': 'drop',\n",
       " 'preprocessing__sparse_threshold': 0.3,\n",
       " 'preprocessing__transformer_weights': None,\n",
       " 'preprocessing__transformers': [('boolean',\n",
       "   Pipeline(steps=[('imputer',\n",
       "                    SimpleImputer(fill_value='False', strategy='constant')),\n",
       "                   ('ohe', OneHotEncoder(handle_unknown='ignore'))]),\n",
       "   ['IDEA Indicator', 'LEP Status', 'Economically Disadvantaged Status']),\n",
       "  ('categorical',\n",
       "   Pipeline(steps=[('imputer',\n",
       "                    SimpleImputer(fill_value='missing', strategy='constant')),\n",
       "                   ('ohe', OneHotEncoder(handle_unknown='ignore'))]),\n",
       "   ['Grade _x',\n",
       "    'Reading \\nMet Winter Goal?',\n",
       "    'Math Met Winter Goal?',\n",
       "    'Race/Ethnicity',\n",
       "    'Language Code',\n",
       "    'English Language Proficiency Level',\n",
       "    'Migrant Status',\n",
       "    'Primary Disability Type']),\n",
       "  ('numeric',\n",
       "   Pipeline(steps=[('scaler', StandardScaler()),\n",
       "                   ('imputer', SimpleImputer(strategy='median'))]),\n",
       "   ['Reading Fall Percentile',\n",
       "    'Reading Winter Percentile',\n",
       "    'Reading Fall Score to Winter Growth',\n",
       "    'Math Fall Percentile',\n",
       "    'Math Winter Percentile',\n",
       "    'Math Fall to Winter Growth',\n",
       "    'Math Met Winter Goal?',\n",
       "    'First Entry Date Into US School',\n",
       "    'LEP Entry Date',\n",
       "    'LEP Exit Date'])],\n",
       " 'preprocessing__verbose': False,\n",
       " 'preprocessing__boolean': Pipeline(steps=[('imputer',\n",
       "                  SimpleImputer(fill_value='False', strategy='constant')),\n",
       "                 ('ohe', OneHotEncoder(handle_unknown='ignore'))]),\n",
       " 'preprocessing__categorical': Pipeline(steps=[('imputer',\n",
       "                  SimpleImputer(fill_value='missing', strategy='constant')),\n",
       "                 ('ohe', OneHotEncoder(handle_unknown='ignore'))]),\n",
       " 'preprocessing__numeric': Pipeline(steps=[('scaler', StandardScaler()),\n",
       "                 ('imputer', SimpleImputer(strategy='median'))]),\n",
       " 'preprocessing__boolean__memory': None,\n",
       " 'preprocessing__boolean__steps': [('imputer',\n",
       "   SimpleImputer(fill_value='False', strategy='constant')),\n",
       "  ('ohe', OneHotEncoder(handle_unknown='ignore'))],\n",
       " 'preprocessing__boolean__verbose': False,\n",
       " 'preprocessing__boolean__imputer': SimpleImputer(fill_value='False', strategy='constant'),\n",
       " 'preprocessing__boolean__ohe': OneHotEncoder(handle_unknown='ignore'),\n",
       " 'preprocessing__boolean__imputer__add_indicator': False,\n",
       " 'preprocessing__boolean__imputer__copy': True,\n",
       " 'preprocessing__boolean__imputer__fill_value': 'False',\n",
       " 'preprocessing__boolean__imputer__missing_values': nan,\n",
       " 'preprocessing__boolean__imputer__strategy': 'constant',\n",
       " 'preprocessing__boolean__imputer__verbose': 0,\n",
       " 'preprocessing__boolean__ohe__categories': 'auto',\n",
       " 'preprocessing__boolean__ohe__drop': None,\n",
       " 'preprocessing__boolean__ohe__dtype': numpy.float64,\n",
       " 'preprocessing__boolean__ohe__handle_unknown': 'ignore',\n",
       " 'preprocessing__boolean__ohe__sparse': True,\n",
       " 'preprocessing__categorical__memory': None,\n",
       " 'preprocessing__categorical__steps': [('imputer',\n",
       "   SimpleImputer(fill_value='missing', strategy='constant')),\n",
       "  ('ohe', OneHotEncoder(handle_unknown='ignore'))],\n",
       " 'preprocessing__categorical__verbose': False,\n",
       " 'preprocessing__categorical__imputer': SimpleImputer(fill_value='missing', strategy='constant'),\n",
       " 'preprocessing__categorical__ohe': OneHotEncoder(handle_unknown='ignore'),\n",
       " 'preprocessing__categorical__imputer__add_indicator': False,\n",
       " 'preprocessing__categorical__imputer__copy': True,\n",
       " 'preprocessing__categorical__imputer__fill_value': 'missing',\n",
       " 'preprocessing__categorical__imputer__missing_values': nan,\n",
       " 'preprocessing__categorical__imputer__strategy': 'constant',\n",
       " 'preprocessing__categorical__imputer__verbose': 0,\n",
       " 'preprocessing__categorical__ohe__categories': 'auto',\n",
       " 'preprocessing__categorical__ohe__drop': None,\n",
       " 'preprocessing__categorical__ohe__dtype': numpy.float64,\n",
       " 'preprocessing__categorical__ohe__handle_unknown': 'ignore',\n",
       " 'preprocessing__categorical__ohe__sparse': True,\n",
       " 'preprocessing__numeric__memory': None,\n",
       " 'preprocessing__numeric__steps': [('scaler', StandardScaler()),\n",
       "  ('imputer', SimpleImputer(strategy='median'))],\n",
       " 'preprocessing__numeric__verbose': False,\n",
       " 'preprocessing__numeric__scaler': StandardScaler(),\n",
       " 'preprocessing__numeric__imputer': SimpleImputer(strategy='median'),\n",
       " 'preprocessing__numeric__scaler__copy': True,\n",
       " 'preprocessing__numeric__scaler__with_mean': True,\n",
       " 'preprocessing__numeric__scaler__with_std': True,\n",
       " 'preprocessing__numeric__imputer__add_indicator': False,\n",
       " 'preprocessing__numeric__imputer__copy': True,\n",
       " 'preprocessing__numeric__imputer__fill_value': None,\n",
       " 'preprocessing__numeric__imputer__missing_values': nan,\n",
       " 'preprocessing__numeric__imputer__strategy': 'median',\n",
       " 'preprocessing__numeric__imputer__verbose': 0,\n",
       " 'classifier__C': 10000.0,\n",
       " 'classifier__class_weight': 'balanced',\n",
       " 'classifier__dual': False,\n",
       " 'classifier__fit_intercept': False,\n",
       " 'classifier__intercept_scaling': 1,\n",
       " 'classifier__l1_ratio': None,\n",
       " 'classifier__max_iter': 500,\n",
       " 'classifier__multi_class': 'multinomial',\n",
       " 'classifier__n_jobs': None,\n",
       " 'classifier__penalty': 'l1',\n",
       " 'classifier__random_state': None,\n",
       " 'classifier__solver': 'saga',\n",
       " 'classifier__tol': 0.0001,\n",
       " 'classifier__verbose': 0,\n",
       " 'classifier__warm_start': False}"
      ]
     },
     "execution_count": 47,
     "metadata": {},
     "output_type": "execute_result"
    }
   ],
   "source": [
    "# Search for hyperparameters \n",
    "\n",
    "pipe = Pipeline([('preprocessing', preprocessing), \n",
    "                 ('classifier',  LogisticRegression())])\n",
    "\n",
    "search_space = {'classifier__C': np.logspace(0, 4, 10),\n",
    "                'classifier__class_weight': [None,'balanced'],\n",
    "                'classifier__dual': [True,False],\n",
    "                'classifier__fit_intercept': [True,False],\n",
    "                'classifier__max_iter': [10, 100, 500],\n",
    "                'classifier__multi_class': ['auto', 'ovr', 'multinomial'],\n",
    "                'classifier__penalty': ['l1', 'l2', 'elasticnet', None],\n",
    "                'classifier__solver': ['newton-cg', 'lbfgs', 'liblinear', 'sag', 'saga']}\n",
    "\n",
    "clf_rand = RandomizedSearchCV(estimator=pipe, \n",
    "                            param_distributions=search_space, \n",
    "                            n_iter=5,\n",
    "                            cv=5,\n",
    "                            verbose=True)\n",
    "\n",
    "clf_rand.fit(X_train, y_train)\n",
    "clf_rand.best_estimator_.get_params()"
   ]
  },
  {
   "cell_type": "code",
   "execution_count": 48,
   "metadata": {},
   "outputs": [],
   "source": [
    "# Include only non-default params \n",
    "lr_best_params = {'C': 7.742636826811269,\n",
    "                  'class_weight': 'balanced',\n",
    "                  'fit_intercept': False,\n",
    "                  'max_iter': 500,\n",
    "                  'penalty': 'l1',\n",
    "                  'solver': 'liblinear'}"
   ]
  },
  {
   "cell_type": "code",
   "execution_count": 72,
   "metadata": {},
   "outputs": [
    {
     "name": "stdout",
     "output_type": "stream",
     "text": [
      "Logistic Regression Precision: 0.913\n",
      "Logistic Regression Accuracy: 0.877\n",
      "\n",
      "Confusion Matrix:\n"
     ]
    },
    {
     "data": {
      "text/plain": [
       "array([[22,  4],\n",
       "       [ 5, 42]])"
      ]
     },
     "execution_count": 72,
     "metadata": {},
     "output_type": "execute_result"
    }
   ],
   "source": [
    "# Fit model\n",
    "pipe = Pipeline([('preprocessing', preprocessing), \n",
    "                 ('classifier',  LogisticRegression(**lr_best_params))])\n",
    "\n",
    "pipe.fit(X_train_tuning, y_train_tuning)\n",
    "preds = pipe.predict(X_valid_tuning)\n",
    "lr_precision_score = precision_score(y_valid_tuning, preds)\n",
    "lr_acc_score = accuracy_score(y_valid_tuning, preds)\n",
    "lr_confusion = confusion_matrix(y_valid_tuning, preds)\n",
    "\n",
    "print(\"Logistic Regression Precision:\", round(lr_precision_score,3))\n",
    "print(\"Logistic Regression Accuracy:\", round(lr_acc_score,3))\n",
    "print(\"\")\n",
    "print(\"Confusion Matrix:\")\n",
    "lr_confusion"
   ]
  },
  {
   "cell_type": "markdown",
   "metadata": {},
   "source": [
    "**Note:** There were 4 students who were incorrectly predicted to pass who in reality failed"
   ]
  },
  {
   "cell_type": "markdown",
   "metadata": {},
   "source": [
    "\n",
    "Tune hyperparameters for candidate model 2 : Extra Trees Classifier \n",
    "----\n"
   ]
  },
  {
   "cell_type": "code",
   "execution_count": 50,
   "metadata": {},
   "outputs": [
    {
     "name": "stdout",
     "output_type": "stream",
     "text": [
      "Fitting 5 folds for each of 5 candidates, totalling 25 fits\n"
     ]
    },
    {
     "name": "stderr",
     "output_type": "stream",
     "text": [
      "[Parallel(n_jobs=1)]: Using backend SequentialBackend with 1 concurrent workers.\n",
      "[Parallel(n_jobs=1)]: Done  25 out of  25 | elapsed:    4.1s finished\n"
     ]
    },
    {
     "data": {
      "text/plain": [
       "{'memory': None,\n",
       " 'steps': [('preprocessing',\n",
       "   ColumnTransformer(transformers=[('boolean',\n",
       "                                    Pipeline(steps=[('imputer',\n",
       "                                                     SimpleImputer(fill_value='False',\n",
       "                                                                   strategy='constant')),\n",
       "                                                    ('ohe',\n",
       "                                                     OneHotEncoder(handle_unknown='ignore'))]),\n",
       "                                    ['IDEA Indicator', 'LEP Status',\n",
       "                                     'Economically Disadvantaged Status']),\n",
       "                                   ('categorical',\n",
       "                                    Pipeline(steps=[('imputer',\n",
       "                                                     SimpleImputer(fill_value='missing',\n",
       "                                                                   strategy='constant')),\n",
       "                                                    ('ohe',\n",
       "                                                     OneHo...\n",
       "                                     'Primary Disability Type']),\n",
       "                                   ('numeric',\n",
       "                                    Pipeline(steps=[('scaler', StandardScaler()),\n",
       "                                                    ('imputer',\n",
       "                                                     SimpleImputer(strategy='median'))]),\n",
       "                                    ['Reading Fall Percentile',\n",
       "                                     'Reading Winter Percentile',\n",
       "                                     'Reading Fall Score to Winter Growth',\n",
       "                                     'Math Fall Percentile',\n",
       "                                     'Math Winter Percentile',\n",
       "                                     'Math Fall to Winter Growth',\n",
       "                                     'Math Met Winter Goal?',\n",
       "                                     'First Entry Date Into US School',\n",
       "                                     'LEP Entry Date', 'LEP Exit Date'])])),\n",
       "  ('classifier',\n",
       "   ExtraTreesClassifier(bootstrap=True, ccp_alpha=0, max_samples=0.25,\n",
       "                        min_samples_leaf=3, min_weight_fraction_leaf=0.1,\n",
       "                        n_estimators=10))],\n",
       " 'verbose': False,\n",
       " 'preprocessing': ColumnTransformer(transformers=[('boolean',\n",
       "                                  Pipeline(steps=[('imputer',\n",
       "                                                   SimpleImputer(fill_value='False',\n",
       "                                                                 strategy='constant')),\n",
       "                                                  ('ohe',\n",
       "                                                   OneHotEncoder(handle_unknown='ignore'))]),\n",
       "                                  ['IDEA Indicator', 'LEP Status',\n",
       "                                   'Economically Disadvantaged Status']),\n",
       "                                 ('categorical',\n",
       "                                  Pipeline(steps=[('imputer',\n",
       "                                                   SimpleImputer(fill_value='missing',\n",
       "                                                                 strategy='constant')),\n",
       "                                                  ('ohe',\n",
       "                                                   OneHo...\n",
       "                                   'Primary Disability Type']),\n",
       "                                 ('numeric',\n",
       "                                  Pipeline(steps=[('scaler', StandardScaler()),\n",
       "                                                  ('imputer',\n",
       "                                                   SimpleImputer(strategy='median'))]),\n",
       "                                  ['Reading Fall Percentile',\n",
       "                                   'Reading Winter Percentile',\n",
       "                                   'Reading Fall Score to Winter Growth',\n",
       "                                   'Math Fall Percentile',\n",
       "                                   'Math Winter Percentile',\n",
       "                                   'Math Fall to Winter Growth',\n",
       "                                   'Math Met Winter Goal?',\n",
       "                                   'First Entry Date Into US School',\n",
       "                                   'LEP Entry Date', 'LEP Exit Date'])]),\n",
       " 'classifier': ExtraTreesClassifier(bootstrap=True, ccp_alpha=0, max_samples=0.25,\n",
       "                      min_samples_leaf=3, min_weight_fraction_leaf=0.1,\n",
       "                      n_estimators=10),\n",
       " 'preprocessing__n_jobs': None,\n",
       " 'preprocessing__remainder': 'drop',\n",
       " 'preprocessing__sparse_threshold': 0.3,\n",
       " 'preprocessing__transformer_weights': None,\n",
       " 'preprocessing__transformers': [('boolean',\n",
       "   Pipeline(steps=[('imputer',\n",
       "                    SimpleImputer(fill_value='False', strategy='constant')),\n",
       "                   ('ohe', OneHotEncoder(handle_unknown='ignore'))]),\n",
       "   ['IDEA Indicator', 'LEP Status', 'Economically Disadvantaged Status']),\n",
       "  ('categorical',\n",
       "   Pipeline(steps=[('imputer',\n",
       "                    SimpleImputer(fill_value='missing', strategy='constant')),\n",
       "                   ('ohe', OneHotEncoder(handle_unknown='ignore'))]),\n",
       "   ['Grade _x',\n",
       "    'Reading \\nMet Winter Goal?',\n",
       "    'Math Met Winter Goal?',\n",
       "    'Race/Ethnicity',\n",
       "    'Language Code',\n",
       "    'English Language Proficiency Level',\n",
       "    'Migrant Status',\n",
       "    'Primary Disability Type']),\n",
       "  ('numeric',\n",
       "   Pipeline(steps=[('scaler', StandardScaler()),\n",
       "                   ('imputer', SimpleImputer(strategy='median'))]),\n",
       "   ['Reading Fall Percentile',\n",
       "    'Reading Winter Percentile',\n",
       "    'Reading Fall Score to Winter Growth',\n",
       "    'Math Fall Percentile',\n",
       "    'Math Winter Percentile',\n",
       "    'Math Fall to Winter Growth',\n",
       "    'Math Met Winter Goal?',\n",
       "    'First Entry Date Into US School',\n",
       "    'LEP Entry Date',\n",
       "    'LEP Exit Date'])],\n",
       " 'preprocessing__verbose': False,\n",
       " 'preprocessing__boolean': Pipeline(steps=[('imputer',\n",
       "                  SimpleImputer(fill_value='False', strategy='constant')),\n",
       "                 ('ohe', OneHotEncoder(handle_unknown='ignore'))]),\n",
       " 'preprocessing__categorical': Pipeline(steps=[('imputer',\n",
       "                  SimpleImputer(fill_value='missing', strategy='constant')),\n",
       "                 ('ohe', OneHotEncoder(handle_unknown='ignore'))]),\n",
       " 'preprocessing__numeric': Pipeline(steps=[('scaler', StandardScaler()),\n",
       "                 ('imputer', SimpleImputer(strategy='median'))]),\n",
       " 'preprocessing__boolean__memory': None,\n",
       " 'preprocessing__boolean__steps': [('imputer',\n",
       "   SimpleImputer(fill_value='False', strategy='constant')),\n",
       "  ('ohe', OneHotEncoder(handle_unknown='ignore'))],\n",
       " 'preprocessing__boolean__verbose': False,\n",
       " 'preprocessing__boolean__imputer': SimpleImputer(fill_value='False', strategy='constant'),\n",
       " 'preprocessing__boolean__ohe': OneHotEncoder(handle_unknown='ignore'),\n",
       " 'preprocessing__boolean__imputer__add_indicator': False,\n",
       " 'preprocessing__boolean__imputer__copy': True,\n",
       " 'preprocessing__boolean__imputer__fill_value': 'False',\n",
       " 'preprocessing__boolean__imputer__missing_values': nan,\n",
       " 'preprocessing__boolean__imputer__strategy': 'constant',\n",
       " 'preprocessing__boolean__imputer__verbose': 0,\n",
       " 'preprocessing__boolean__ohe__categories': 'auto',\n",
       " 'preprocessing__boolean__ohe__drop': None,\n",
       " 'preprocessing__boolean__ohe__dtype': numpy.float64,\n",
       " 'preprocessing__boolean__ohe__handle_unknown': 'ignore',\n",
       " 'preprocessing__boolean__ohe__sparse': True,\n",
       " 'preprocessing__categorical__memory': None,\n",
       " 'preprocessing__categorical__steps': [('imputer',\n",
       "   SimpleImputer(fill_value='missing', strategy='constant')),\n",
       "  ('ohe', OneHotEncoder(handle_unknown='ignore'))],\n",
       " 'preprocessing__categorical__verbose': False,\n",
       " 'preprocessing__categorical__imputer': SimpleImputer(fill_value='missing', strategy='constant'),\n",
       " 'preprocessing__categorical__ohe': OneHotEncoder(handle_unknown='ignore'),\n",
       " 'preprocessing__categorical__imputer__add_indicator': False,\n",
       " 'preprocessing__categorical__imputer__copy': True,\n",
       " 'preprocessing__categorical__imputer__fill_value': 'missing',\n",
       " 'preprocessing__categorical__imputer__missing_values': nan,\n",
       " 'preprocessing__categorical__imputer__strategy': 'constant',\n",
       " 'preprocessing__categorical__imputer__verbose': 0,\n",
       " 'preprocessing__categorical__ohe__categories': 'auto',\n",
       " 'preprocessing__categorical__ohe__drop': None,\n",
       " 'preprocessing__categorical__ohe__dtype': numpy.float64,\n",
       " 'preprocessing__categorical__ohe__handle_unknown': 'ignore',\n",
       " 'preprocessing__categorical__ohe__sparse': True,\n",
       " 'preprocessing__numeric__memory': None,\n",
       " 'preprocessing__numeric__steps': [('scaler', StandardScaler()),\n",
       "  ('imputer', SimpleImputer(strategy='median'))],\n",
       " 'preprocessing__numeric__verbose': False,\n",
       " 'preprocessing__numeric__scaler': StandardScaler(),\n",
       " 'preprocessing__numeric__imputer': SimpleImputer(strategy='median'),\n",
       " 'preprocessing__numeric__scaler__copy': True,\n",
       " 'preprocessing__numeric__scaler__with_mean': True,\n",
       " 'preprocessing__numeric__scaler__with_std': True,\n",
       " 'preprocessing__numeric__imputer__add_indicator': False,\n",
       " 'preprocessing__numeric__imputer__copy': True,\n",
       " 'preprocessing__numeric__imputer__fill_value': None,\n",
       " 'preprocessing__numeric__imputer__missing_values': nan,\n",
       " 'preprocessing__numeric__imputer__strategy': 'median',\n",
       " 'preprocessing__numeric__imputer__verbose': 0,\n",
       " 'classifier__bootstrap': True,\n",
       " 'classifier__ccp_alpha': 0,\n",
       " 'classifier__class_weight': None,\n",
       " 'classifier__criterion': 'gini',\n",
       " 'classifier__max_depth': None,\n",
       " 'classifier__max_features': 'auto',\n",
       " 'classifier__max_leaf_nodes': None,\n",
       " 'classifier__max_samples': 0.25,\n",
       " 'classifier__min_impurity_decrease': 0.0,\n",
       " 'classifier__min_impurity_split': None,\n",
       " 'classifier__min_samples_leaf': 3,\n",
       " 'classifier__min_samples_split': 2,\n",
       " 'classifier__min_weight_fraction_leaf': 0.1,\n",
       " 'classifier__n_estimators': 10,\n",
       " 'classifier__n_jobs': None,\n",
       " 'classifier__oob_score': False,\n",
       " 'classifier__random_state': None,\n",
       " 'classifier__verbose': 0,\n",
       " 'classifier__warm_start': False}"
      ]
     },
     "execution_count": 50,
     "metadata": {},
     "output_type": "execute_result"
    }
   ],
   "source": [
    "# Search for hyperparameters \n",
    "\n",
    "pipe = Pipeline([('preprocessing', preprocessing), \n",
    "                 ('classifier',  ExtraTreesClassifier())])\n",
    "\n",
    "search_space = {'classifier__bootstrap': [False,True],\n",
    "                'classifier__ccp_alpha': [0, 0.1, 0.01],\n",
    "                'classifier__class_weight': [None, 'balanced', 'balanced_subsample'],\n",
    "                'classifier__criterion': ['gini', 'entropy'],\n",
    "                'classifier__max_features': ['auto','sqrt', 'log2'],\n",
    "                'classifier__max_samples': [0.25,0.5, 0.75, None],\n",
    "                'classifier__min_samples_leaf': [1,2,3],\n",
    "                'classifier__min_samples_split': [2,3],\n",
    "                'classifier__min_weight_fraction_leaf': [0.0, 0.1],\n",
    "                'classifier__n_estimators': [10,100,500]}\n",
    "\n",
    "clf_rand = RandomizedSearchCV(estimator=pipe, \n",
    "                            param_distributions=search_space, \n",
    "                            n_iter=5,\n",
    "                            cv=5,\n",
    "                            verbose=True,\n",
    "                            )\n",
    "clf_rand.fit(X_train, y_train)\n",
    "clf_rand.best_estimator_.get_params()"
   ]
  },
  {
   "cell_type": "code",
   "execution_count": 51,
   "metadata": {},
   "outputs": [],
   "source": [
    "# Only include non-default params \n",
    "\n",
    "et_best_params = {'bootstrap': True,\n",
    "                  'min_samples_leaf': 2,\n",
    "                  'min_samples_split': 3}"
   ]
  },
  {
   "cell_type": "code",
   "execution_count": 73,
   "metadata": {},
   "outputs": [
    {
     "name": "stdout",
     "output_type": "stream",
     "text": [
      "Extra Trees Precision: 0.902\n",
      "Extra Trees Accuracy: 0.918\n",
      "\n",
      "Confusion Matrix:\n"
     ]
    },
    {
     "data": {
      "text/plain": [
       "array([[21,  5],\n",
       "       [ 1, 46]])"
      ]
     },
     "execution_count": 73,
     "metadata": {},
     "output_type": "execute_result"
    }
   ],
   "source": [
    "# Fit model\n",
    "\n",
    "pipe = Pipeline([('preprocessing', preprocessing), \n",
    "                 ('classifier',  ExtraTreesClassifier(**et_best_params))])\n",
    "\n",
    "pipe.fit(X_train_tuning, y_train_tuning)\n",
    "preds = pipe.predict(X_valid_tuning)\n",
    "et_precision_score = precision_score(y_valid_tuning, preds)\n",
    "et_acc_score = accuracy_score(y_valid_tuning, preds)\n",
    "et_confusion = confusion_matrix(y_valid_tuning, preds)\n",
    "\n",
    "print(\"Extra Trees Precision:\", round(et_precision_score,3))\n",
    "print(\"Extra Trees Accuracy:\", round(et_acc_score,3))\n",
    "print(\"\")\n",
    "print(\"Confusion Matrix:\")\n",
    "et_confusion\n"
   ]
  },
  {
   "cell_type": "markdown",
   "metadata": {},
   "source": [
    "**Note:** This model only misidentifies 7 students as passing when in reality they fail. This did not perform as well as the logistic regression model. "
   ]
  },
  {
   "cell_type": "markdown",
   "metadata": {},
   "source": [
    "Tune hyperparameters for candidate model 3: SGD Classifier \n",
    "----"
   ]
  },
  {
   "cell_type": "code",
   "execution_count": 53,
   "metadata": {},
   "outputs": [
    {
     "name": "stdout",
     "output_type": "stream",
     "text": [
      "Fitting 5 folds for each of 5 candidates, totalling 25 fits\n"
     ]
    },
    {
     "name": "stderr",
     "output_type": "stream",
     "text": [
      "[Parallel(n_jobs=1)]: Using backend SequentialBackend with 1 concurrent workers.\n",
      "[Parallel(n_jobs=1)]: Done  25 out of  25 | elapsed:    0.7s finished\n"
     ]
    },
    {
     "data": {
      "text/plain": [
       "{'memory': None,\n",
       " 'steps': [('preprocessing',\n",
       "   ColumnTransformer(transformers=[('boolean',\n",
       "                                    Pipeline(steps=[('imputer',\n",
       "                                                     SimpleImputer(fill_value='False',\n",
       "                                                                   strategy='constant')),\n",
       "                                                    ('ohe',\n",
       "                                                     OneHotEncoder(handle_unknown='ignore'))]),\n",
       "                                    ['IDEA Indicator', 'LEP Status',\n",
       "                                     'Economically Disadvantaged Status']),\n",
       "                                   ('categorical',\n",
       "                                    Pipeline(steps=[('imputer',\n",
       "                                                     SimpleImputer(fill_value='missing',\n",
       "                                                                   strategy='constant')),\n",
       "                                                    ('ohe',\n",
       "                                                     OneHo...\n",
       "                                     'Primary Disability Type']),\n",
       "                                   ('numeric',\n",
       "                                    Pipeline(steps=[('scaler', StandardScaler()),\n",
       "                                                    ('imputer',\n",
       "                                                     SimpleImputer(strategy='median'))]),\n",
       "                                    ['Reading Fall Percentile',\n",
       "                                     'Reading Winter Percentile',\n",
       "                                     'Reading Fall Score to Winter Growth',\n",
       "                                     'Math Fall Percentile',\n",
       "                                     'Math Winter Percentile',\n",
       "                                     'Math Fall to Winter Growth',\n",
       "                                     'Math Met Winter Goal?',\n",
       "                                     'First Entry Date Into US School',\n",
       "                                     'LEP Entry Date', 'LEP Exit Date'])])),\n",
       "  ('classifier',\n",
       "   SGDClassifier(alpha=0.001, class_weight='balanced', early_stopping=True,\n",
       "                 fit_intercept=False))],\n",
       " 'verbose': False,\n",
       " 'preprocessing': ColumnTransformer(transformers=[('boolean',\n",
       "                                  Pipeline(steps=[('imputer',\n",
       "                                                   SimpleImputer(fill_value='False',\n",
       "                                                                 strategy='constant')),\n",
       "                                                  ('ohe',\n",
       "                                                   OneHotEncoder(handle_unknown='ignore'))]),\n",
       "                                  ['IDEA Indicator', 'LEP Status',\n",
       "                                   'Economically Disadvantaged Status']),\n",
       "                                 ('categorical',\n",
       "                                  Pipeline(steps=[('imputer',\n",
       "                                                   SimpleImputer(fill_value='missing',\n",
       "                                                                 strategy='constant')),\n",
       "                                                  ('ohe',\n",
       "                                                   OneHo...\n",
       "                                   'Primary Disability Type']),\n",
       "                                 ('numeric',\n",
       "                                  Pipeline(steps=[('scaler', StandardScaler()),\n",
       "                                                  ('imputer',\n",
       "                                                   SimpleImputer(strategy='median'))]),\n",
       "                                  ['Reading Fall Percentile',\n",
       "                                   'Reading Winter Percentile',\n",
       "                                   'Reading Fall Score to Winter Growth',\n",
       "                                   'Math Fall Percentile',\n",
       "                                   'Math Winter Percentile',\n",
       "                                   'Math Fall to Winter Growth',\n",
       "                                   'Math Met Winter Goal?',\n",
       "                                   'First Entry Date Into US School',\n",
       "                                   'LEP Entry Date', 'LEP Exit Date'])]),\n",
       " 'classifier': SGDClassifier(alpha=0.001, class_weight='balanced', early_stopping=True,\n",
       "               fit_intercept=False),\n",
       " 'preprocessing__n_jobs': None,\n",
       " 'preprocessing__remainder': 'drop',\n",
       " 'preprocessing__sparse_threshold': 0.3,\n",
       " 'preprocessing__transformer_weights': None,\n",
       " 'preprocessing__transformers': [('boolean',\n",
       "   Pipeline(steps=[('imputer',\n",
       "                    SimpleImputer(fill_value='False', strategy='constant')),\n",
       "                   ('ohe', OneHotEncoder(handle_unknown='ignore'))]),\n",
       "   ['IDEA Indicator', 'LEP Status', 'Economically Disadvantaged Status']),\n",
       "  ('categorical',\n",
       "   Pipeline(steps=[('imputer',\n",
       "                    SimpleImputer(fill_value='missing', strategy='constant')),\n",
       "                   ('ohe', OneHotEncoder(handle_unknown='ignore'))]),\n",
       "   ['Grade _x',\n",
       "    'Reading \\nMet Winter Goal?',\n",
       "    'Math Met Winter Goal?',\n",
       "    'Race/Ethnicity',\n",
       "    'Language Code',\n",
       "    'English Language Proficiency Level',\n",
       "    'Migrant Status',\n",
       "    'Primary Disability Type']),\n",
       "  ('numeric',\n",
       "   Pipeline(steps=[('scaler', StandardScaler()),\n",
       "                   ('imputer', SimpleImputer(strategy='median'))]),\n",
       "   ['Reading Fall Percentile',\n",
       "    'Reading Winter Percentile',\n",
       "    'Reading Fall Score to Winter Growth',\n",
       "    'Math Fall Percentile',\n",
       "    'Math Winter Percentile',\n",
       "    'Math Fall to Winter Growth',\n",
       "    'Math Met Winter Goal?',\n",
       "    'First Entry Date Into US School',\n",
       "    'LEP Entry Date',\n",
       "    'LEP Exit Date'])],\n",
       " 'preprocessing__verbose': False,\n",
       " 'preprocessing__boolean': Pipeline(steps=[('imputer',\n",
       "                  SimpleImputer(fill_value='False', strategy='constant')),\n",
       "                 ('ohe', OneHotEncoder(handle_unknown='ignore'))]),\n",
       " 'preprocessing__categorical': Pipeline(steps=[('imputer',\n",
       "                  SimpleImputer(fill_value='missing', strategy='constant')),\n",
       "                 ('ohe', OneHotEncoder(handle_unknown='ignore'))]),\n",
       " 'preprocessing__numeric': Pipeline(steps=[('scaler', StandardScaler()),\n",
       "                 ('imputer', SimpleImputer(strategy='median'))]),\n",
       " 'preprocessing__boolean__memory': None,\n",
       " 'preprocessing__boolean__steps': [('imputer',\n",
       "   SimpleImputer(fill_value='False', strategy='constant')),\n",
       "  ('ohe', OneHotEncoder(handle_unknown='ignore'))],\n",
       " 'preprocessing__boolean__verbose': False,\n",
       " 'preprocessing__boolean__imputer': SimpleImputer(fill_value='False', strategy='constant'),\n",
       " 'preprocessing__boolean__ohe': OneHotEncoder(handle_unknown='ignore'),\n",
       " 'preprocessing__boolean__imputer__add_indicator': False,\n",
       " 'preprocessing__boolean__imputer__copy': True,\n",
       " 'preprocessing__boolean__imputer__fill_value': 'False',\n",
       " 'preprocessing__boolean__imputer__missing_values': nan,\n",
       " 'preprocessing__boolean__imputer__strategy': 'constant',\n",
       " 'preprocessing__boolean__imputer__verbose': 0,\n",
       " 'preprocessing__boolean__ohe__categories': 'auto',\n",
       " 'preprocessing__boolean__ohe__drop': None,\n",
       " 'preprocessing__boolean__ohe__dtype': numpy.float64,\n",
       " 'preprocessing__boolean__ohe__handle_unknown': 'ignore',\n",
       " 'preprocessing__boolean__ohe__sparse': True,\n",
       " 'preprocessing__categorical__memory': None,\n",
       " 'preprocessing__categorical__steps': [('imputer',\n",
       "   SimpleImputer(fill_value='missing', strategy='constant')),\n",
       "  ('ohe', OneHotEncoder(handle_unknown='ignore'))],\n",
       " 'preprocessing__categorical__verbose': False,\n",
       " 'preprocessing__categorical__imputer': SimpleImputer(fill_value='missing', strategy='constant'),\n",
       " 'preprocessing__categorical__ohe': OneHotEncoder(handle_unknown='ignore'),\n",
       " 'preprocessing__categorical__imputer__add_indicator': False,\n",
       " 'preprocessing__categorical__imputer__copy': True,\n",
       " 'preprocessing__categorical__imputer__fill_value': 'missing',\n",
       " 'preprocessing__categorical__imputer__missing_values': nan,\n",
       " 'preprocessing__categorical__imputer__strategy': 'constant',\n",
       " 'preprocessing__categorical__imputer__verbose': 0,\n",
       " 'preprocessing__categorical__ohe__categories': 'auto',\n",
       " 'preprocessing__categorical__ohe__drop': None,\n",
       " 'preprocessing__categorical__ohe__dtype': numpy.float64,\n",
       " 'preprocessing__categorical__ohe__handle_unknown': 'ignore',\n",
       " 'preprocessing__categorical__ohe__sparse': True,\n",
       " 'preprocessing__numeric__memory': None,\n",
       " 'preprocessing__numeric__steps': [('scaler', StandardScaler()),\n",
       "  ('imputer', SimpleImputer(strategy='median'))],\n",
       " 'preprocessing__numeric__verbose': False,\n",
       " 'preprocessing__numeric__scaler': StandardScaler(),\n",
       " 'preprocessing__numeric__imputer': SimpleImputer(strategy='median'),\n",
       " 'preprocessing__numeric__scaler__copy': True,\n",
       " 'preprocessing__numeric__scaler__with_mean': True,\n",
       " 'preprocessing__numeric__scaler__with_std': True,\n",
       " 'preprocessing__numeric__imputer__add_indicator': False,\n",
       " 'preprocessing__numeric__imputer__copy': True,\n",
       " 'preprocessing__numeric__imputer__fill_value': None,\n",
       " 'preprocessing__numeric__imputer__missing_values': nan,\n",
       " 'preprocessing__numeric__imputer__strategy': 'median',\n",
       " 'preprocessing__numeric__imputer__verbose': 0,\n",
       " 'classifier__alpha': 0.001,\n",
       " 'classifier__average': False,\n",
       " 'classifier__class_weight': 'balanced',\n",
       " 'classifier__early_stopping': True,\n",
       " 'classifier__epsilon': 0.1,\n",
       " 'classifier__eta0': 0.0,\n",
       " 'classifier__fit_intercept': False,\n",
       " 'classifier__l1_ratio': 0.15,\n",
       " 'classifier__learning_rate': 'optimal',\n",
       " 'classifier__loss': 'hinge',\n",
       " 'classifier__max_iter': 1000,\n",
       " 'classifier__n_iter_no_change': 5,\n",
       " 'classifier__n_jobs': None,\n",
       " 'classifier__penalty': 'l2',\n",
       " 'classifier__power_t': 0.5,\n",
       " 'classifier__random_state': None,\n",
       " 'classifier__shuffle': True,\n",
       " 'classifier__tol': 0.001,\n",
       " 'classifier__validation_fraction': 0.1,\n",
       " 'classifier__verbose': 0,\n",
       " 'classifier__warm_start': False}"
      ]
     },
     "execution_count": 53,
     "metadata": {},
     "output_type": "execute_result"
    }
   ],
   "source": [
    "# Search for hyperparameters \n",
    "\n",
    "pipe = Pipeline([('preprocessing', preprocessing), \n",
    "                 ('classifier',  SGDClassifier())])\n",
    "\n",
    "search_space = {'classifier__alpha': [0.0001, 0.001, 0.01],\n",
    "                 'classifier__class_weight': [None, 'balanced'],\n",
    "                 'classifier__early_stopping': [True,False],\n",
    "                 'classifier__fit_intercept': [True, False],\n",
    "                 'classifier__l1_ratio': [0.05, 0.15, 0.25],\n",
    "                 'classifier__loss': ['hinge', 'log', 'modified_huber', 'squared_hinge', 'perceptron'],\n",
    "                 'classifier__max_iter': [1000, 2000],\n",
    "                 'classifier__penalty': ['l2', 'l1', 'elasticnet']}\n",
    "\n",
    "clf_rand = RandomizedSearchCV(estimator=pipe, \n",
    "                            param_distributions=search_space, \n",
    "                            n_iter=5,\n",
    "                            cv=5,\n",
    "                            verbose=True,\n",
    "                            )\n",
    "clf_rand.fit(X_train, y_train)\n",
    "clf_rand.best_estimator_.get_params()"
   ]
  },
  {
   "cell_type": "code",
   "execution_count": 54,
   "metadata": {},
   "outputs": [],
   "source": [
    "# Include only those that are different from the default values \n",
    "\n",
    "sgd_best_params =  {'alpha': 0.01,\n",
    "                    'early_stopping': True,\n",
    "                    'fit_intercept': False,\n",
    "                    'l1_ratio': 0.25,\n",
    "                    'max_iter': 2000,\n",
    "                    'penalty': 'l1'}\n"
   ]
  },
  {
   "cell_type": "code",
   "execution_count": 74,
   "metadata": {},
   "outputs": [
    {
     "name": "stdout",
     "output_type": "stream",
     "text": [
      "SGD Precision: 0.911\n",
      "SGD Accuracy: 0.863\n",
      "\n",
      "Confusion Matrix:\n"
     ]
    },
    {
     "data": {
      "text/plain": [
       "array([[22,  4],\n",
       "       [ 6, 41]])"
      ]
     },
     "execution_count": 74,
     "metadata": {},
     "output_type": "execute_result"
    }
   ],
   "source": [
    "# Fit model \n",
    "\n",
    "pipe = Pipeline([('preprocessing', preprocessing), \n",
    "                 ('classifier',  SGDClassifier(**sgd_best_params))])\n",
    "\n",
    "pipe.fit(X_train_tuning, y_train_tuning)\n",
    "preds = pipe.predict(X_valid_tuning)\n",
    "sgd_precision_score = precision_score(y_valid_tuning, preds)\n",
    "sgd_acc_score = accuracy_score(y_valid_tuning, preds)\n",
    "sgd_confusion = confusion_matrix(y_valid_tuning, preds)\n",
    "\n",
    "print(\"SGD Precision:\", round(sgd_precision_score,3))\n",
    "print(\"SGD Accuracy:\", round(sgd_acc_score,3))\n",
    "print(\"\")\n",
    "print(\"Confusion Matrix:\")\n",
    "sgd_confusion\n"
   ]
  },
  {
   "cell_type": "markdown",
   "metadata": {},
   "source": [
    "Summary of 3 Candidate Models \n",
    "----"
   ]
  },
  {
   "cell_type": "code",
   "execution_count": 75,
   "metadata": {},
   "outputs": [
    {
     "data": {
      "text/html": [
       "<div>\n",
       "<style scoped>\n",
       "    .dataframe tbody tr th:only-of-type {\n",
       "        vertical-align: middle;\n",
       "    }\n",
       "\n",
       "    .dataframe tbody tr th {\n",
       "        vertical-align: top;\n",
       "    }\n",
       "\n",
       "    .dataframe thead th {\n",
       "        text-align: right;\n",
       "    }\n",
       "</style>\n",
       "<table border=\"1\" class=\"dataframe\">\n",
       "  <thead>\n",
       "    <tr style=\"text-align: right;\">\n",
       "      <th></th>\n",
       "      <th>Model</th>\n",
       "      <th>Precision</th>\n",
       "      <th>Accuracy</th>\n",
       "    </tr>\n",
       "  </thead>\n",
       "  <tbody>\n",
       "    <tr>\n",
       "      <th>0</th>\n",
       "      <td>Logistic Regression</td>\n",
       "      <td>0.913</td>\n",
       "      <td>0.877</td>\n",
       "    </tr>\n",
       "    <tr>\n",
       "      <th>2</th>\n",
       "      <td>SGD</td>\n",
       "      <td>0.911</td>\n",
       "      <td>0.863</td>\n",
       "    </tr>\n",
       "    <tr>\n",
       "      <th>1</th>\n",
       "      <td>Extra Trees</td>\n",
       "      <td>0.902</td>\n",
       "      <td>0.918</td>\n",
       "    </tr>\n",
       "  </tbody>\n",
       "</table>\n",
       "</div>"
      ],
      "text/plain": [
       "                 Model  Precision  Accuracy\n",
       "0  Logistic Regression      0.913     0.877\n",
       "2                  SGD      0.911     0.863\n",
       "1          Extra Trees      0.902     0.918"
      ]
     },
     "execution_count": 75,
     "metadata": {},
     "output_type": "execute_result"
    }
   ],
   "source": [
    "pd.DataFrame({\"Model\": [\"Logistic Regression\", \"Extra Trees\", \"SGD\"], \n",
    "              \"Precision\": [lr_precision_score,et_precision_score,sgd_precision_score], \n",
    "              \"Accuracy\": [lr_acc_score,et_acc_score,sgd_acc_score]})\\\n",
    "            .round(3)\\\n",
    "            .sort_values(['Precision'], ascending=False)"
   ]
  },
  {
   "cell_type": "markdown",
   "metadata": {},
   "source": [
    "Examine Importances for Logistic Regression Model\n",
    "----"
   ]
  },
  {
   "cell_type": "code",
   "execution_count": 82,
   "metadata": {},
   "outputs": [],
   "source": [
    "pipe = Pipeline([('preprocessing', preprocessing), \n",
    "                 ('classifier',  LogisticRegression(**lr_best_params))])\n",
    "\n",
    "model = pipe.fit(X_train_tuning, y_train_tuning)\n",
    "\n",
    "r = permutation_importance(model, \n",
    "                           X_valid_tuning, y_valid_tuning,  \n",
    "                           n_repeats=100,\n",
    "                           random_state=42)"
   ]
  },
  {
   "cell_type": "code",
   "execution_count": 83,
   "metadata": {},
   "outputs": [
    {
     "name": "stdout",
     "output_type": "stream",
     "text": [
      "Math Winter Percentile 0.22712328767123283\n",
      "Reading Winter Percentile 0.07753424657534244\n",
      "Math Met Winter Goal? 0.016027397260273944\n",
      "Race/Ethnicity 0.006164383561643815\n",
      "Economically Disadvantaged Status 0.003013698630136974\n",
      "LEP Status 0.0010958904109588852\n",
      "ID  0.0\n",
      "Grade _x 0.0\n",
      "Reading Fall '18 RIT 0.0\n",
      "Reading Fall Percentile 0.0\n",
      "Reading Typical RIT Growth Points 0.0\n",
      "Reading Tiered RIT Growth Points 0.0\n",
      "Reading Winter '18 GOAL Score 0.0\n",
      "Reading Winter '18 RIT 0.0\n",
      "Reading Fall Score to Winter Growth 0.0\n",
      "Reading \n",
      "Met Winter Goal? 0.0\n",
      "Reading Spring '19 GOAL Score 0.0\n",
      "Reading Spring '19 RIT 0.0\n",
      "Reading Spring '19 %ile 0.0\n",
      "Reading Fall to Spring RIT Growth 0.0\n",
      "Reading Met Spring Goal? 0.0\n",
      "Math Fall '18 RIT 0.0\n",
      "Math Fall Percentile 0.0\n",
      "Math Typical RIT Growth Points 0.0\n",
      "Math Tiered RIT Growth Points 0.0\n",
      "Math Winter '18 GOAL Score 0.0\n",
      "Math Winter '18 RIT 0.0\n",
      "Math Fall to Winter Growth 0.0\n",
      "Math Spring '19 GOAL Score 0.0\n",
      "Math Spring '19 RIT 0.0\n",
      "Math Spring '19 %ile 0.0\n",
      "Math Fall to Spring RIT Growth 0.0\n",
      "Math Met Spring Goal?  0.0\n",
      "Grade _y 0.0\n",
      "IDEA Indicator 0.0\n",
      "Section 504 Status 0.0\n",
      "English Language Proficiency Level 0.0\n",
      "Migrant Status 0.0\n",
      "First Entry Date Into US School 0.0\n",
      "LEP Entry Date 0.0\n",
      "LEP Exit Date 0.0\n",
      "Primary Disability Type 0.0\n",
      "ELA/Literacy OppNumber 0.0\n",
      "ELA/Literacy Scale Score 0.0\n",
      "Standard Error for ELA/Literacy Scale Score 0.0\n",
      "Reading Claim Achievement Category 0.0\n",
      "Writing Claim Achievement Category 0.0\n",
      "Listening Claim Achievement Category 0.0\n",
      "Research/Inquiry Claim Achievement Category 0.0\n",
      "Mathematics OppNumber 0.0\n",
      "Mathematics Scale Score 0.0\n",
      "Standard Error for Mathematics Scale Score 0.0\n",
      "Concepts and Procedures Claim Achievement Category 0.0\n",
      "Problem Solving and Modeling & Data Analysis Claim Achievement Category 0.0\n",
      "Communicating Reasoning Claim Achievement Category 0.0\n",
      "Language Code -1.7763568394002505e-17\n"
     ]
    }
   ],
   "source": [
    "features = X.columns\n",
    "importances = r.importances_mean\n",
    "\n",
    "feature_importances = []\n",
    "for x in zip(features,importances):\n",
    "    feature_importances.append((x[0], x[1]))\n",
    "\n",
    "for x in sorted(feature_importances, key= lambda x: x[1], reverse=True):\n",
    "    print(x[0], x[1])"
   ]
  },
  {
   "cell_type": "markdown",
   "metadata": {},
   "source": [
    "Remove some correlated features and run again \n",
    "----"
   ]
  },
  {
   "cell_type": "code",
   "execution_count": 84,
   "metadata": {},
   "outputs": [
    {
     "name": "stdout",
     "output_type": "stream",
     "text": [
      "Logistic Regression Precision: 0.935\n",
      "Logistic Regression Accuracy: 0.904\n",
      "\n",
      "Confusion Matrix:\n"
     ]
    },
    {
     "data": {
      "text/plain": [
       "array([[23,  3],\n",
       "       [ 4, 43]])"
      ]
     },
     "execution_count": 84,
     "metadata": {},
     "output_type": "execute_result"
    }
   ],
   "source": [
    "# Pipeline V2\n",
    "\n",
    "\"\"\"\n",
    "Removed these correlated columns: \n",
    "'English Language Proficiency Level', 'Reading \\nMet Winter Goal?', 'Grade _x','LEP Entry Date' \n",
    "'Math Met Winter Goal?', 'Reading Fall Score to Winter Growth','IDEA Indicator', 'Migrant Status',\n",
    "'LEP Exit Date', 'Primary Disability Type'\n",
    "\"\"\" \n",
    "boolean_columns = ['LEP Status', 'Economically Disadvantaged Status']\n",
    "\n",
    "categorical_columns = ['Math Met Winter Goal?', 'Race/Ethnicity']\n",
    "\n",
    "numeric_columns = ['Reading Winter Percentile', 'Math Winter Percentile']\n",
    "\n",
    "\n",
    "boolean_pipe = Pipeline([('imputer', SimpleImputer(strategy='constant', fill_value='False')), \n",
    "                         ('ohe', OneHotEncoder(handle_unknown='ignore'))])\n",
    "\n",
    "categorical_pipe = Pipeline([('imputer', SimpleImputer(strategy='constant', fill_value='missing')),\n",
    "                             ('ohe', OneHotEncoder(handle_unknown='ignore'))])\n",
    "\n",
    "numeric_pipe = Pipeline([('scaler', StandardScaler()),\n",
    "                         ('imputer', SimpleImputer(strategy='median'))])\n",
    "\n",
    "preprocessing = ColumnTransformer([('boolean', boolean_pipe,  boolean_columns),\n",
    "                                   ('categorical', categorical_pipe, categorical_columns),\n",
    "                                   ('numeric',  numeric_pipe, numeric_columns)])  \n",
    "\n",
    "# Hyperparameters\n",
    "lr_best_params = {'C': 7.742636826811269,\n",
    "                  'class_weight': 'balanced',\n",
    "                  'fit_intercept': False,\n",
    "                  'max_iter': 500,\n",
    "                  'penalty': 'l1',\n",
    "                  'solver': 'liblinear'}\n",
    "\n",
    "# Final Pipeline\n",
    "pipe = Pipeline([('preprocessing', preprocessing), \n",
    "                 ('classifier',  LogisticRegression(**lr_best_params))])\n",
    "\n",
    "# Fit Pipeline on entire train \n",
    "pipe.fit(X_train_tuning, y_train_tuning)\n",
    "\n",
    "# Predict on test set\n",
    "preds = pipe.predict(X_valid_tuning)\n",
    "\n",
    "# See test set precision, accuraacy and confusion matrix \n",
    "lr_precision_score = precision_score(y_valid_tuning, preds)\n",
    "lr_acc_score = accuracy_score(y_valid_tuning, preds)\n",
    "lr_confusion = confusion_matrix(y_valid_tuning, preds)\n",
    "\n",
    "print(\"Logistic Regression Precision:\", round(lr_precision_score,3))\n",
    "print(\"Logistic Regression Accuracy:\", round(lr_acc_score,3))\n",
    "print(\"\")\n",
    "print(\"Confusion Matrix:\")\n",
    "lr_confusion"
   ]
  },
  {
   "cell_type": "markdown",
   "metadata": {},
   "source": [
    "**Note:** After simplifying the model, precision and accuracy increased and the number of false positives decreased by 1. "
   ]
  },
  {
   "cell_type": "markdown",
   "metadata": {},
   "source": [
    "Final Model Results \n",
    "----\n",
    "After tuning the hyperparameters, Logistic Regression had the highest precision but the lowest accuracy. SGD and Extra Trees were about the same. Since I care most about avoiding false positives, I am selecting Logistic Regression as my final model, though I am concerned about the lower accuracy rate. "
   ]
  },
  {
   "cell_type": "code",
   "execution_count": 86,
   "metadata": {},
   "outputs": [
    {
     "name": "stdout",
     "output_type": "stream",
     "text": [
      "Logistic Regression Set Precision: 0.938\n",
      "Logistic Regression Set Accuracy: 0.856\n",
      "\n",
      "Test Set Confusion Matrix:\n",
      "[[22  4]\n",
      " [10 61]]\n"
     ]
    }
   ],
   "source": [
    "# Final Features\n",
    "boolean_columns = ['LEP Status', 'Economically Disadvantaged Status']\n",
    "\n",
    "categorical_columns = ['Math Met Winter Goal?', 'Race/Ethnicity']\n",
    "\n",
    "numeric_columns = ['Reading Winter Percentile', 'Math Winter Percentile']\n",
    "\n",
    "\n",
    "# Final Preprocessing Pipeline\n",
    "boolean_pipe = Pipeline([('imputer', SimpleImputer(strategy='constant', fill_value='False')), \n",
    "                         ('ohe', OneHotEncoder(handle_unknown='ignore'))])\n",
    "\n",
    "categorical_pipe = Pipeline([('imputer', SimpleImputer(strategy='constant', fill_value='missing')),\n",
    "                             ('ohe', OneHotEncoder(handle_unknown='ignore'))])\n",
    "\n",
    "numeric_pipe = Pipeline([('scaler', StandardScaler()),\n",
    "                         ('imputer', SimpleImputer(strategy='median'))])\n",
    "\n",
    "preprocessing = ColumnTransformer([('boolean', boolean_pipe,  boolean_columns),\n",
    "                                   ('categorical', categorical_pipe, categorical_columns),\n",
    "                                   ('numeric',  numeric_pipe, numeric_columns)])  \n",
    "\n",
    "# Hyperparameters\n",
    "lr_best_params = {'C': 7.742636826811269,\n",
    "                  'class_weight': 'balanced',\n",
    "                  'fit_intercept': False,\n",
    "                  'max_iter': 500,\n",
    "                  'penalty': 'l1',\n",
    "                  'solver': 'liblinear'}\n",
    "\n",
    "# Final Pipeline\n",
    "pipe = Pipeline([('preprocessing', preprocessing), \n",
    "                 ('classifier',  LogisticRegression(**lr_best_params))])\n",
    "\n",
    "# Fit Pipeline on entire train \n",
    "pipe.fit(X_train, y_train)\n",
    "\n",
    "# Predict on test set\n",
    "preds = pipe.predict(X_test)\n",
    "\n",
    "# See test set precision, accuraacy and confusion matrix \n",
    "lr_precision_score = precision_score(y_test, preds)\n",
    "lr_acc_score = accuracy_score(y_test, preds)\n",
    "lr_confusion = confusion_matrix(y_test, preds)\n",
    "\n",
    "print(\"Logistic Regression Set Precision:\", round(lr_precision_score,3))\n",
    "print(\"Logistic Regression Set Accuracy:\", round(lr_acc_score,3))\n",
    "print(\"\")\n",
    "print(\"Test Set Confusion Matrix:\")\n",
    "print(lr_confusion)"
   ]
  },
  {
   "cell_type": "code",
   "execution_count": 88,
   "metadata": {},
   "outputs": [
    {
     "data": {
      "text/html": [
       "<div>\n",
       "<style scoped>\n",
       "    .dataframe tbody tr th:only-of-type {\n",
       "        vertical-align: middle;\n",
       "    }\n",
       "\n",
       "    .dataframe tbody tr th {\n",
       "        vertical-align: top;\n",
       "    }\n",
       "\n",
       "    .dataframe thead th {\n",
       "        text-align: right;\n",
       "    }\n",
       "</style>\n",
       "<table border=\"1\" class=\"dataframe\">\n",
       "  <thead>\n",
       "    <tr style=\"text-align: right;\">\n",
       "      <th></th>\n",
       "      <th>Pred: Fail</th>\n",
       "      <th>Pred: Pass</th>\n",
       "    </tr>\n",
       "  </thead>\n",
       "  <tbody>\n",
       "    <tr>\n",
       "      <th>Actual: Fail</th>\n",
       "      <td>22</td>\n",
       "      <td>4</td>\n",
       "    </tr>\n",
       "    <tr>\n",
       "      <th>Actual: Pass</th>\n",
       "      <td>10</td>\n",
       "      <td>61</td>\n",
       "    </tr>\n",
       "  </tbody>\n",
       "</table>\n",
       "</div>"
      ],
      "text/plain": [
       "              Pred: Fail  Pred: Pass\n",
       "Actual: Fail          22           4\n",
       "Actual: Pass          10          61"
      ]
     },
     "execution_count": 88,
     "metadata": {},
     "output_type": "execute_result"
    }
   ],
   "source": [
    "# Create df to interpret confusion matrix \n",
    "labels = ['Fail', 'Pass']\n",
    "pd.DataFrame(lr_confusion, columns=[f'Pred: {label}' for label in labels],\n",
    "                  index=[f'Actual: {label}' for label in labels])\n"
   ]
  },
  {
   "cell_type": "code",
   "execution_count": 89,
   "metadata": {},
   "outputs": [
    {
     "name": "stdout",
     "output_type": "stream",
     "text": [
      "              precision    recall  f1-score   support\n",
      "\n",
      "           0       0.69      0.85      0.76        26\n",
      "           1       0.94      0.86      0.90        71\n",
      "\n",
      "    accuracy                           0.86        97\n",
      "   macro avg       0.81      0.85      0.83        97\n",
      "weighted avg       0.87      0.86      0.86        97\n",
      "\n"
     ]
    }
   ],
   "source": [
    "# Check classification report \n",
    "full_report = classification_report(y_test, preds)\n",
    "print(full_report)"
   ]
  },
  {
   "cell_type": "markdown",
   "metadata": {},
   "source": [
    "**Remarks about importances**\n",
    "- I was not surprised that Math Winter Percentile from the MAP test was the most important feature in this model. This supports what we have observed at the school and reinforces many of the MAP score-based practices that we have in place at the school. \n",
    "- It is unsurprising that Math Fall Percentile has negative importance since it is highly correlated to Math Winter Percentile. The same is observed for Reading Winter Percentile and Reading Fall Percentile. "
   ]
  },
  {
   "cell_type": "markdown",
   "metadata": {},
   "source": [
    "Conclusions and Next Steps\n",
    "----\n",
    "\n",
    "My final logistic regression model does a good job of correctly predicting students who will pass the SBAC. The model was selected and tuned to minimize the chance of false positives. In the test set, only 3 of the 97 students are predicted to pass when in reality they failed. Using this model can help teachers identify students that need extra support who would have otherwise gone unnoticed.\n",
    "\n",
    "It is important to note that in the test set, 7 students were predicted to fail who in reality passed. The model incorrectly suggests that these students should be receiving extra interventions. This could be an issue because teachers have limited time and resources and these students would be unneceessarily taking away some of the resources from the students who need it most. The problem of false negatives is not as significant as the problem of false positives in this case, but it is important to be aware of it. \n",
    "\n",
    "Though the model has a 96% chance of correctly predicting if a student will pass, it has only a 75% chance of correctly predicting if a student will fail. When I performed this analyses, I recognized there was a class imbalance, but I did not think it was significant enough to address. Given the major differences in precision for the two classes, I would like to consider addressing this class imbalance issue in the future using SMOTE. \n",
    "\n"
   ]
  }
 ],
 "metadata": {
  "kernelspec": {
   "display_name": "Python 3",
   "language": "python",
   "name": "python3"
  },
  "language_info": {
   "codemirror_mode": {
    "name": "ipython",
    "version": 3
   },
   "file_extension": ".py",
   "mimetype": "text/x-python",
   "name": "python",
   "nbconvert_exporter": "python",
   "pygments_lexer": "ipython3",
   "version": "3.8.2"
  },
  "toc": {
   "base_numbering": 1,
   "nav_menu": {},
   "number_sections": false,
   "sideBar": false,
   "skip_h1_title": false,
   "title_cell": "Table of Contents",
   "title_sidebar": "Contents",
   "toc_cell": true,
   "toc_position": {},
   "toc_section_display": true,
   "toc_window_display": false
  }
 },
 "nbformat": 4,
 "nbformat_minor": 4
}
